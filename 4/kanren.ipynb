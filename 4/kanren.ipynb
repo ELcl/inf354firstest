{
  "nbformat": 4,
  "nbformat_minor": 0,
  "metadata": {
    "colab": {
      "provenance": []
    },
    "kernelspec": {
      "name": "python3",
      "display_name": "Python 3"
    },
    "language_info": {
      "name": "python"
    }
  },
  "cells": [
    {
      "cell_type": "code",
      "execution_count": 1,
      "metadata": {
        "colab": {
          "base_uri": "https://localhost:8080/"
        },
        "id": "vnZ7dbhcbLI3",
        "outputId": "5d761ffb-13e2-4712-e15e-206bd4544cc0"
      },
      "outputs": [
        {
          "output_type": "stream",
          "name": "stdout",
          "text": [
            "Looking in indexes: https://pypi.org/simple, https://us-python.pkg.dev/colab-wheels/public/simple/\n",
            "Collecting kanren\n",
            "  Downloading kanren-0.2.3.tar.gz (23 kB)\n",
            "Requirement already satisfied: toolz in /usr/local/lib/python3.7/dist-packages (from kanren) (0.12.0)\n",
            "Requirement already satisfied: multipledispatch in /usr/local/lib/python3.7/dist-packages (from kanren) (0.6.0)\n",
            "Collecting unification\n",
            "  Downloading unification-0.2.2-py2.py3-none-any.whl (10 kB)\n",
            "Requirement already satisfied: six in /usr/local/lib/python3.7/dist-packages (from multipledispatch->kanren) (1.15.0)\n",
            "Building wheels for collected packages: kanren\n",
            "  Building wheel for kanren (setup.py) ... \u001b[?25l\u001b[?25hdone\n",
            "  Created wheel for kanren: filename=kanren-0.2.3-py3-none-any.whl size=15871 sha256=a13ecfe2137b2706e0bdd956e53306d55078c56d86f8de828fd311edc7559b2b\n",
            "  Stored in directory: /root/.cache/pip/wheels/26/cb/32/093b860ec60752641d76d706af25a175597cf56e152282cbbe\n",
            "Successfully built kanren\n",
            "Installing collected packages: unification, kanren\n",
            "Successfully installed kanren-0.2.3 unification-0.2.2\n"
          ]
        }
      ],
      "source": [
        "pip install kanren"
      ]
    },
    {
      "cell_type": "code",
      "source": [
        "from kanren import facts, Relation, var, run\n"
      ],
      "metadata": {
        "id": "bwD00cC5bU4K"
      },
      "execution_count": 3,
      "outputs": []
    },
    {
      "cell_type": "code",
      "source": [
        "parent = Relation()\n",
        "facts(parent,  (\"Tomas\", \"Efrain\"),(\"Tomas\", \"Jenny\"),(\"Antonio\", \"Tomas\"))\n",
        "x = var()"
      ],
      "metadata": {
        "id": "2P7vDxi3dVkD"
      },
      "execution_count": 10,
      "outputs": []
    },
    {
      "cell_type": "code",
      "source": [
        "run(1, x, parent(x,\"Efrain\"))"
      ],
      "metadata": {
        "colab": {
          "base_uri": "https://localhost:8080/"
        },
        "id": "t3CbcDCUd8Un",
        "outputId": "efcc47fc-23a0-4eff-b576-0b18e001844c"
      },
      "execution_count": 19,
      "outputs": [
        {
          "output_type": "execute_result",
          "data": {
            "text/plain": [
              "('Tomas',)"
            ]
          },
          "metadata": {},
          "execution_count": 19
        }
      ]
    },
    {
      "cell_type": "code",
      "source": [
        "run(2,x,parent(\"Tomas\",x))"
      ],
      "metadata": {
        "colab": {
          "base_uri": "https://localhost:8080/"
        },
        "id": "t8qqpmB4ePh0",
        "outputId": "0c72bb89-b646-49d7-9b1e-ede6d8b7b0cc"
      },
      "execution_count": 12,
      "outputs": [
        {
          "output_type": "execute_result",
          "data": {
            "text/plain": [
              "('Efrain', 'Jenny')"
            ]
          },
          "metadata": {},
          "execution_count": 12
        }
      ]
    },
    {
      "cell_type": "code",
      "source": [
        "y=var()\n",
        "run(1,x,parent(x,y)),\n"
      ],
      "metadata": {
        "colab": {
          "base_uri": "https://localhost:8080/"
        },
        "id": "BejOEj5EenZz",
        "outputId": "e48d7226-faf2-4dff-a19e-8759ea7c46b4"
      },
      "execution_count": 14,
      "outputs": [
        {
          "output_type": "execute_result",
          "data": {
            "text/plain": [
              "(('Antonio',),)"
            ]
          },
          "metadata": {},
          "execution_count": 14
        }
      ]
    },
    {
      "cell_type": "code",
      "source": [
        "primos = Relation()\n",
        "facts(primos,  (\"Grover\", \"Efrain\"),(\"Alex\", \"Efrain\"))"
      ],
      "metadata": {
        "id": "RCwZM3GkfClz"
      },
      "execution_count": 17,
      "outputs": []
    },
    {
      "cell_type": "code",
      "source": [
        "p = var()\n",
        "run(2, p, primos(p,\"Efrain\"))"
      ],
      "metadata": {
        "colab": {
          "base_uri": "https://localhost:8080/"
        },
        "id": "cka0RDMKflEx",
        "outputId": "95dc06fe-05bb-47e4-ce63-89055e98dc38"
      },
      "execution_count": 21,
      "outputs": [
        {
          "output_type": "execute_result",
          "data": {
            "text/plain": [
              "('Alex', 'Grover')"
            ]
          },
          "metadata": {},
          "execution_count": 21
        }
      ]
    }
  ]
}